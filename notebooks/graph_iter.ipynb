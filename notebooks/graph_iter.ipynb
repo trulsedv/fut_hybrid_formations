{
 "cells": [
  {
   "cell_type": "code",
   "execution_count": 1,
   "metadata": {},
   "outputs": [],
   "source": [
    "import json"
   ]
  },
  {
   "cell_type": "code",
   "execution_count": 2,
   "metadata": {},
   "outputs": [],
   "source": [
    "def get_possibilities(idx):\n",
    "    nation_set = set()\n",
    "    league_set = set()\n",
    "    club_leagues = []\n",
    "    club_sets = []\n",
    "    for conn in posisitons_list[idx][\"connections_list\"]:\n",
    "        if \"nation\" in posisitons_list[conn]:\n",
    "            nation_set.add(posisitons_list[conn][\"nation\"])\n",
    "            league_set.add(posisitons_list[conn][\"league\"])\n",
    "            if posisitons_list[conn][\"league\"] in club_leagues:\n",
    "                club_sets[club_leagues.index(posisitons_list[conn][\"league\"])].add(posisitons_list[conn][\"club\"])\n",
    "            else:\n",
    "                club_leagues.append(posisitons_list[conn][\"league\"])\n",
    "                club_sets.append({posisitons_list[conn][\"club\"]})\n",
    "    \n",
    "    for i, s in enumerate(club_sets):\n",
    "        club_sets[i] = s\n",
    "        club_sets[i].add(max(club_sets[i]) + 1)\n",
    "        \n",
    "    if not nation_set:\n",
    "        nation_set.add(0)\n",
    "    else:\n",
    "        nation_set.add(max(nation_set) + 1)\n",
    "\n",
    "    if not league_set:\n",
    "        league_set.add(0)\n",
    "        club_leagues.append(0)\n",
    "        club_sets.append({0})\n",
    "    else:\n",
    "        league_set.add(max(league_set) + 1)\n",
    "        club_leagues.append(max(league_set))\n",
    "        club_sets.append({0})\n",
    "    \n",
    "    return (nation_set, league_set, club_sets, club_leagues)\n",
    "        "
   ]
  },
  {
   "cell_type": "code",
   "execution_count": 71,
   "metadata": {},
   "outputs": [],
   "source": [
    "def position_iteration(idx):\n",
    "    check_conn_list = [1] * len(posisitons_list[idx][\"connections_list\"])\n",
    "    i = 0\n",
    "    while sum(check_conn_list) != 0:\n",
    "        conn = posisitons_list[idx][\"connections_list\"][i]\n",
    "        if \"nation\" not in posisitons_list[conn]:\n",
    "            check_conn_list[i] = set_card(conn)\n",
    "        elif check_conn_list[i] == 2:\n",
    "            check_conn_list[i] = set_card(conn)\n",
    "        else:\n",
    "            check_conn_list[i] = 0\n",
    "        i = (i + 1) % len(posisitons_list[idx][\"connections_list\"])"
   ]
  },
  {
   "cell_type": "code",
   "execution_count": 77,
   "metadata": {},
   "outputs": [],
   "source": [
    "def set_card(idx):\n",
    "    (nation_set, league_set, club_sets, club_leagues) = get_possibilities(idx)\n",
    "    for nat in nation_set:\n",
    "        for lea in league_set:\n",
    "            club_set = club_sets[club_leagues.index(lea)]\n",
    "            for clu in club_set:\n",
    "                posisitons_list[idx][\"nation\"] = nat\n",
    "                posisitons_list[idx][\"league\"] = lea\n",
    "                posisitons_list[idx][\"club\"] = clu\n",
    "                print(posisitons_list[idx])\n",
    "                \n",
    "                position_iteration(idx)\n",
    "                \n",
    "                return 0\n",
    "            \n",
    "#                 check_list.add(idx)\n",
    "#                 if len(check_list) != len(posisitons_list):\n",
    "#                     return 2\n",
    "#     return 0"
   ]
  },
  {
   "cell_type": "code",
   "execution_count": 78,
   "metadata": {},
   "outputs": [],
   "source": [
    "f = open(\"../files/formations.json\")\n",
    "d = json.load(f)"
   ]
  },
  {
   "cell_type": "code",
   "execution_count": 79,
   "metadata": {},
   "outputs": [],
   "source": [
    "formation_index = 3"
   ]
  },
  {
   "cell_type": "code",
   "execution_count": 80,
   "metadata": {},
   "outputs": [],
   "source": [
    "posisitons_list = d[\"formations\"][formation_index][\"positions_list\"]"
   ]
  },
  {
   "cell_type": "code",
   "execution_count": 81,
   "metadata": {
    "scrolled": true
   },
   "outputs": [
    {
     "name": "stdout",
     "output_type": "stream",
     "text": [
      "{'ID': 0, 'position': 'RB', 'connections_list': [1, 2], 'nation': 0, 'league': 0, 'club': 0}\n",
      "{'ID': 1, 'position': 'LB', 'connections_list': [0, 2], 'nation': 0, 'league': 0, 'club': 0}\n",
      "{'ID': 2, 'position': 'CAM', 'connections_list': [0, 1, 3, 4], 'nation': 0, 'league': 0, 'club': 0}\n",
      "{'ID': 3, 'position': 'RM', 'connections_list': [2], 'nation': 0, 'league': 0, 'club': 0}\n",
      "{'ID': 4, 'position': 'ST', 'connections_list': [2], 'nation': 0, 'league': 0, 'club': 0}\n"
     ]
    },
    {
     "data": {
      "text/plain": [
       "0"
      ]
     },
     "execution_count": 81,
     "metadata": {},
     "output_type": "execute_result"
    }
   ],
   "source": [
    "check_list = set()\n",
    "set_card(0)"
   ]
  },
  {
   "cell_type": "code",
   "execution_count": null,
   "metadata": {},
   "outputs": [],
   "source": [
    "s = {1,2,4}\n",
    "s.add(5)\n",
    "max(s)"
   ]
  }
 ],
 "metadata": {
  "kernelspec": {
   "display_name": "Python 3",
   "language": "python",
   "name": "python3"
  },
  "language_info": {
   "codemirror_mode": {
    "name": "ipython",
    "version": 3
   },
   "file_extension": ".py",
   "mimetype": "text/x-python",
   "name": "python",
   "nbconvert_exporter": "python",
   "pygments_lexer": "ipython3",
   "version": "3.7.3"
  }
 },
 "nbformat": 4,
 "nbformat_minor": 2
}
