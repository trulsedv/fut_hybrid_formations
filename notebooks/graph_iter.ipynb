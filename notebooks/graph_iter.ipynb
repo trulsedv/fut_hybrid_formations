{
 "cells": [
  {
   "cell_type": "code",
   "execution_count": 1,
   "metadata": {},
   "outputs": [],
   "source": [
    "import json"
   ]
  },
  {
   "cell_type": "code",
   "execution_count": 47,
   "metadata": {},
   "outputs": [],
   "source": [
    "formation_index = 0"
   ]
  },
  {
   "cell_type": "code",
   "execution_count": 109,
   "metadata": {},
   "outputs": [],
   "source": [
    "f = open(\"../files/formations.json\")\n",
    "d = json.load(f)"
   ]
  },
  {
   "cell_type": "code",
   "execution_count": 110,
   "metadata": {},
   "outputs": [],
   "source": [
    "posisitons_list = d[\"formations\"][formation_index][\"positions_list\"]"
   ]
  },
  {
   "cell_type": "code",
   "execution_count": 111,
   "metadata": {},
   "outputs": [],
   "source": [
    "posisitons_list[0][\"iter\"] = True\n",
    "posisitons_list[0][\"Nation\"] = \"A\"\n",
    "posisitons_list[0][\"League\"] = \"A\"\n",
    "posisitons_list[0][\"Club\"] = \"Aa\""
   ]
  },
  {
   "cell_type": "code",
   "execution_count": 113,
   "metadata": {},
   "outputs": [],
   "source": [
    "def position_iteration(connections_list, position):\n",
    "    for connection in connections_list:\n",
    "        print(connection)\n",
    "        if \"iter\" not in posisitons_list[connection]:\n",
    "            posisitons_list[connection][\"iter\"] = True\n",
    "            position_iteration(posisitons_list[connection][\"connections_list\"], posisitons_list[connection][\"position\"])\n",
    "    print(\"done, \" + position)"
   ]
  },
  {
   "cell_type": "code",
   "execution_count": 114,
   "metadata": {},
   "outputs": [
    {
     "name": "stdout",
     "output_type": "stream",
     "text": [
      "1\n",
      "CB\n",
      "0\n",
      "2\n",
      "CB\n",
      "0\n",
      "1\n",
      "5\n",
      "LB\n",
      "2\n",
      "9\n",
      "LM\n",
      "5\n",
      "6\n",
      "CM\n",
      "2\n",
      "4\n",
      "CM\n",
      "1\n",
      "6\n",
      "7\n",
      "RM\n",
      "3\n",
      "RB\n",
      "1\n",
      "7\n",
      "done, RB\n",
      "4\n",
      "8\n",
      "ST\n",
      "4\n",
      "7\n",
      "10\n",
      "ST\n",
      "6\n",
      "8\n",
      "9\n",
      "done, ST\n",
      "done, ST\n",
      "done, RM\n",
      "8\n",
      "done, CM\n",
      "9\n",
      "10\n",
      "done, CM\n",
      "10\n",
      "done, LM\n",
      "done, LB\n",
      "6\n",
      "done, CB\n",
      "3\n",
      "4\n",
      "done, CB\n",
      "2\n",
      "done, GK\n"
     ]
    }
   ],
   "source": [
    "position_iteration(posisitons_list[0][\"connections_list\"], \"GK\")"
   ]
  },
  {
   "cell_type": "code",
   "execution_count": null,
   "metadata": {},
   "outputs": [],
   "source": []
  }
 ],
 "metadata": {
  "kernelspec": {
   "display_name": "Python 3",
   "language": "python",
   "name": "python3"
  },
  "language_info": {
   "codemirror_mode": {
    "name": "ipython",
    "version": 3
   },
   "file_extension": ".py",
   "mimetype": "text/x-python",
   "name": "python",
   "nbconvert_exporter": "python",
   "pygments_lexer": "ipython3",
   "version": "3.7.3"
  }
 },
 "nbformat": 4,
 "nbformat_minor": 2
}
