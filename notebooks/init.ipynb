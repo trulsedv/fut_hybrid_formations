{
 "cells": [
  {
   "cell_type": "code",
   "execution_count": 1,
   "metadata": {},
   "outputs": [],
   "source": [
    "import time\n",
    "import json\n",
    "import h5py\n",
    "import numpy as np"
   ]
  },
  {
   "cell_type": "code",
   "execution_count": 2,
   "metadata": {},
   "outputs": [],
   "source": [
    "def calc_value(n_pos, nation_vector, league_vector, club_vector, lc_vector, connection_n_vector, connection_matrix):\n",
    "    value_matrix = np.zeros((n_pos, n_pos), dtype=int)\n",
    "    for i in range(n_pos):\n",
    "        if nation_vector[i] != 0:\n",
    "            value_matrix[i, :] += np.equal(nation_vector[i], nation_vector)\n",
    "        if league_vector[i] != 0:\n",
    "            value_matrix[i, :] += np.equal(league_vector[i], league_vector)\n",
    "            if club_vector[i] != 0:\n",
    "                value_matrix[i, :] += np.equal(lc_vector[i], lc_vector)\n",
    "    \n",
    "    link_matrix = np.multiply(connection_matrix, value_matrix)\n",
    "    link_sum_vector = link_matrix.sum(axis = 0)\n",
    "    link_value_vector = np.divide(link_sum_vector,connection_n_vector)\n",
    "    \n",
    "    return link_value_vector"
   ]
  },
  {
   "cell_type": "code",
   "execution_count": 3,
   "metadata": {},
   "outputs": [],
   "source": [
    "def NLC_interations(n_pos, iterations, connection_matrix, connection_n_vector, divisor_vector, product_vector):\n",
    "    iteration_matrix = np.zeros((iterations, n_pos))\n",
    "    \n",
    "    for i in range(iterations):\n",
    "        vectors = np.mod(np.full(3 * n_pos, i) // product_vector, divisor_vector)\n",
    "        club_vector = vectors[0 : n_pos]\n",
    "        league_vector = vectors[n_pos : 2 * n_pos]\n",
    "        nation_vector = vectors[2 * n_pos : 3 * n_pos]\n",
    "        lc_vector = club_vector + 100 * league_vector\n",
    "        \n",
    "        link_value_vector = calc_value(n_pos, nation_vector, league_vector, club_vector, lc_vector, \n",
    "                                       connection_n_vector, connection_matrix)\n",
    "        iteration_matrix[i, :] = link_value_vector\n",
    "    \n",
    "    return iteration_matrix"
   ]
  },
  {
   "cell_type": "code",
   "execution_count": 4,
   "metadata": {},
   "outputs": [],
   "source": [
    "f = open(\"../files/formations.json\")\n",
    "d = json.load(f)"
   ]
  },
  {
   "cell_type": "code",
   "execution_count": 5,
   "metadata": {},
   "outputs": [],
   "source": [
    "n_N = 2\n",
    "n_L = 2\n",
    "n_C = 1\n",
    "\n",
    "formation_index = 0"
   ]
  },
  {
   "cell_type": "code",
   "execution_count": 6,
   "metadata": {
    "scrolled": true
   },
   "outputs": [],
   "source": [
    "posisitons_list = d[\"formations\"][formation_index][\"positions_list\"]\n",
    "name = d[\"formations\"][formation_index][\"name\"]\n",
    "n_pos = len(posisitons_list)"
   ]
  },
  {
   "cell_type": "code",
   "execution_count": 7,
   "metadata": {
    "scrolled": true
   },
   "outputs": [],
   "source": [
    "iterations = (n_N * n_L * n_C)**n_pos"
   ]
  },
  {
   "cell_type": "code",
   "execution_count": 8,
   "metadata": {},
   "outputs": [
    {
     "name": "stdout",
     "output_type": "stream",
     "text": [
      "4-4-2\n",
      "4194304\n"
     ]
    }
   ],
   "source": [
    "print(name)\n",
    "print(iterations)"
   ]
  },
  {
   "cell_type": "code",
   "execution_count": 9,
   "metadata": {},
   "outputs": [],
   "source": [
    "connection_matrix = np.zeros((n_pos,n_pos), dtype=int)\n",
    "for i, pos in enumerate(posisitons_list):\n",
    "    connection_matrix[i, pos[\"connections_list\"]] = 1"
   ]
  },
  {
   "cell_type": "code",
   "execution_count": 10,
   "metadata": {},
   "outputs": [],
   "source": [
    "connection_n_vector = connection_matrix.sum(axis = 0)"
   ]
  },
  {
   "cell_type": "code",
   "execution_count": 11,
   "metadata": {},
   "outputs": [],
   "source": [
    "divisor_vector = np.full(n_pos, n_C)\n",
    "divisor_vector = np.append(divisor_vector, np.full(n_pos, n_L))\n",
    "divisor_vector = np.append(divisor_vector, np.full(n_pos, n_N))"
   ]
  },
  {
   "cell_type": "code",
   "execution_count": 12,
   "metadata": {},
   "outputs": [],
   "source": [
    "product_vector = np.zeros(3 * n_pos)\n",
    "\n",
    "prod = 1\n",
    "for i in range(n_pos):\n",
    "    product_vector[i] = prod\n",
    "    prod *= n_C\n",
    "\n",
    "for i in range(n_pos):\n",
    "    product_vector[i + n_pos] = prod\n",
    "    prod *= n_L\n",
    "    \n",
    "for i in range(n_pos):\n",
    "    product_vector[i + 2 * n_pos] = prod\n",
    "    prod *= n_N"
   ]
  },
  {
   "cell_type": "code",
   "execution_count": 13,
   "metadata": {},
   "outputs": [
    {
     "name": "stdout",
     "output_type": "stream",
     "text": [
      "--- 286.86546087265015 seconds ---\n"
     ]
    }
   ],
   "source": [
    "start_time = time.time()\n",
    "iteration_matrix = NLC_interations(n_pos, iterations, connection_matrix, connection_n_vector, divisor_vector, product_vector)\n",
    "print(\"--- %s seconds ---\" % (time.time() - start_time))"
   ]
  },
  {
   "cell_type": "code",
   "execution_count": 15,
   "metadata": {},
   "outputs": [],
   "source": [
    "filename = \"C:/Users/Truls/OneDrive/Documents/02 - Privat/Hobby/Python/FUT/hybrid_formations/\" + name + \", N{}L{}C{}.h5\".format(n_N, n_L, n_C)\n",
    "h5f = h5py.File(filename, 'w')\n",
    "h5f.create_dataset('dataset_1', data=iteration_matrix)\n",
    "h5f.close()"
   ]
  }
 ],
 "metadata": {
  "kernelspec": {
   "display_name": "Python 3",
   "language": "python",
   "name": "python3"
  },
  "language_info": {
   "codemirror_mode": {
    "name": "ipython",
    "version": 3
   },
   "file_extension": ".py",
   "mimetype": "text/x-python",
   "name": "python",
   "nbconvert_exporter": "python",
   "pygments_lexer": "ipython3",
   "version": "3.7.3"
  }
 },
 "nbformat": 4,
 "nbformat_minor": 2
}
