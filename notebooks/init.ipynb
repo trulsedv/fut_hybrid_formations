{
 "cells": [
  {
   "cell_type": "code",
   "execution_count": 1,
   "metadata": {},
   "outputs": [],
   "source": [
    "import json\n",
    "import time\n",
    "import numpy as np"
   ]
  },
  {
   "cell_type": "code",
   "execution_count": 2,
   "metadata": {},
   "outputs": [],
   "source": [
    "f = open(\"../files/formations.json\")\n",
    "d = json.load(f)"
   ]
  },
  {
   "cell_type": "code",
   "execution_count": 5,
   "metadata": {},
   "outputs": [],
   "source": [
    "posisitons_list = d[\"formations\"][1][\"positions_list\"]\n",
    "n_pos = len(posisitons_list)"
   ]
  },
  {
   "cell_type": "code",
   "execution_count": 27,
   "metadata": {},
   "outputs": [],
   "source": [
    "connection_matrix = np.zeros((n_pos,n_pos), dtype=int)\n",
    "for i, pos in enumerate(posisitons_list):\n",
    "    connection_matrix[i, pos[\"connections_list\"]] = 1\n",
    "connextion_sum_vector = connection_matrix.sum(axis = 0)"
   ]
  },
  {
   "cell_type": "code",
   "execution_count": 40,
   "metadata": {},
   "outputs": [],
   "source": [
    "nation_vector = np.array([0, 0, 1, 1])\n",
    "league_vector = np.array([0, 1, 1, 0])\n",
    "club_vector = np.array([0, 1, 1, 0])\n",
    "lc_vector = club_vector + 100 * league_vector"
   ]
  },
  {
   "cell_type": "code",
   "execution_count": 41,
   "metadata": {},
   "outputs": [],
   "source": [
    "value_matrix = np.zeros((n_pos, n_pos), dtype=int)\n",
    "for i in range(n_pos):\n",
    "    if nation_vector[i] != 0:\n",
    "        value_matrix[i, :] += np.equal(nation_vector[i], nation_vector)\n",
    "    if league_vector[i] != 0:\n",
    "        value_matrix[i, :] += np.equal(league_vector[i], league_vector)\n",
    "        if club_vector[i] != 0:\n",
    "            value_matrix[i, :] += np.equal(lc_vector[i], lc_vector)"
   ]
  },
  {
   "cell_type": "code",
   "execution_count": 42,
   "metadata": {},
   "outputs": [],
   "source": [
    "link_matrix = np.multiply(connection_matrix, value_matrix)\n",
    "link_sum_vector = link_matrix.sum(axis = 0)"
   ]
  },
  {
   "cell_type": "code",
   "execution_count": 43,
   "metadata": {},
   "outputs": [
    {
     "name": "stdout",
     "output_type": "stream",
     "text": [
      "[0. 1. 1. 1.]\n"
     ]
    }
   ],
   "source": [
    "print(np.divide(link_sum_vector,connextion_sum_vector))"
   ]
  },
  {
   "cell_type": "code",
   "execution_count": 44,
   "metadata": {},
   "outputs": [
    {
     "name": "stdout",
     "output_type": "stream",
     "text": [
      "16777216\n"
     ]
    }
   ],
   "source": [
    "print(4**12)"
   ]
  }
 ],
 "metadata": {
  "kernelspec": {
   "display_name": "Python 3",
   "language": "python",
   "name": "python3"
  },
  "language_info": {
   "codemirror_mode": {
    "name": "ipython",
    "version": 3
   },
   "file_extension": ".py",
   "mimetype": "text/x-python",
   "name": "python",
   "nbconvert_exporter": "python",
   "pygments_lexer": "ipython3",
   "version": "3.7.3"
  }
 },
 "nbformat": 4,
 "nbformat_minor": 2
}
