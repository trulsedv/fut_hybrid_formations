{
 "cells": [
  {
   "cell_type": "code",
   "execution_count": 6,
   "metadata": {},
   "outputs": [],
   "source": [
    "import json\n",
    "import time\n",
    "import numpy as np"
   ]
  },
  {
   "cell_type": "code",
   "execution_count": 4,
   "metadata": {},
   "outputs": [],
   "source": [
    "f = open(\"../files/formations.json\")\n",
    "d = json.load(f)"
   ]
  },
  {
   "cell_type": "code",
   "execution_count": 99,
   "metadata": {},
   "outputs": [],
   "source": [
    "n_pos = len(d[\"formations\"][0][\"positions_list\"])"
   ]
  },
  {
   "cell_type": "code",
   "execution_count": null,
   "metadata": {},
   "outputs": [],
   "source": [
    "connection_matrix = np.zeros((n_pos,n_pos), dtype=int)\n",
    "for i, pos in enumerate(d[\"formations\"][0][\"positions_list\"]):\n",
    "    connection_matrix[i, pos[\"connections_list\"]] = 1"
   ]
  },
  {
   "cell_type": "code",
   "execution_count": 103,
   "metadata": {},
   "outputs": [],
   "source": [
    "nation_vector = np.array([1, 1, 1, 0, 0, 0, 0, 2, 2, 2, 2])\n",
    "league_vector = np.array([1, 1, 1, 3, 3, 3, 3, 3, 3, 0, 0])\n",
    "club_vector = np.array([1, 1, 1, 0, 0, 0, 4, 4, 4, 4, 4])\n",
    "lc_vector = club_vector + 100 * league_vector"
   ]
  },
  {
   "cell_type": "code",
   "execution_count": 106,
   "metadata": {},
   "outputs": [],
   "source": [
    "value_matrix = np.zeros((n_pos, n_pos), dtype=int)\n",
    "for i in range(n_pos):\n",
    "    if nation_vector[i] != 0:\n",
    "        value_matrix[i, :] += np.equal(nation_vector[i], nation_vector)\n",
    "    if league_vector[i] != 0:\n",
    "        value_matrix[i, :] += np.equal(league_vector[i], league_vector)\n",
    "        if club_vector[i] != 0:\n",
    "            value_matrix[i, :] += np.equal(lc_vector[i], lc_vector)"
   ]
  },
  {
   "cell_type": "code",
   "execution_count": 107,
   "metadata": {},
   "outputs": [],
   "source": [
    "link_matrix = np.multiply(connection_matrix, value_matrix)"
   ]
  },
  {
   "cell_type": "code",
   "execution_count": null,
   "metadata": {},
   "outputs": [],
   "source": []
  }
 ],
 "metadata": {
  "kernelspec": {
   "display_name": "Python 3",
   "language": "python",
   "name": "python3"
  },
  "language_info": {
   "codemirror_mode": {
    "name": "ipython",
    "version": 3
   },
   "file_extension": ".py",
   "mimetype": "text/x-python",
   "name": "python",
   "nbconvert_exporter": "python",
   "pygments_lexer": "ipython3",
   "version": "3.7.3"
  }
 },
 "nbformat": 4,
 "nbformat_minor": 2
}
