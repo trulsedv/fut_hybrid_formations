{
 "cells": [
  {
   "cell_type": "code",
   "execution_count": 6,
   "metadata": {},
   "outputs": [],
   "source": [
    "import json\n",
    "import time\n",
    "import numpy as np"
   ]
  },
  {
   "cell_type": "code",
   "execution_count": 4,
   "metadata": {},
   "outputs": [],
   "source": [
    "f = open(\"../files/formations.json\")\n",
    "d = json.load(f)"
   ]
  },
  {
   "cell_type": "code",
   "execution_count": 5,
   "metadata": {},
   "outputs": [
    {
     "name": "stdout",
     "output_type": "stream",
     "text": [
      "{'ID': 0, 'position': 'GK', 'connections_list': [1, 2]}\n"
     ]
    }
   ],
   "source": [
    "print(d[\"formations\"][0][\"positions_list\"][0])"
   ]
  },
  {
   "cell_type": "code",
   "execution_count": 14,
   "metadata": {},
   "outputs": [],
   "source": [
    "n_pos = len(d[\"formations\"][0][\"positions_list\"])\n",
    "link_matrix = np.zeros((n_pos,n_pos), dtype=int)\n",
    "for i, pos in enumerate(d[\"formations\"][0][\"positions_list\"]):\n",
    "    link_matrix[i, pos[\"connections_list\"]] = 1       "
   ]
  },
  {
   "cell_type": "code",
   "execution_count": 20,
   "metadata": {},
   "outputs": [
    {
     "name": "stdout",
     "output_type": "stream",
     "text": [
      "[[0 1 1 0 0 0 0 0 0 0 0]\n",
      " [1 0 1 1 1 0 0 0 0 0 0]\n",
      " [1 1 0 0 0 1 1 0 0 0 0]\n",
      " [0 1 0 0 0 0 0 1 0 0 0]\n",
      " [0 1 0 0 0 0 1 1 1 0 0]\n",
      " [0 0 1 0 0 0 0 0 0 1 0]\n",
      " [0 0 1 0 1 0 0 0 0 1 1]\n",
      " [0 0 0 1 1 0 0 0 1 0 0]\n",
      " [0 0 0 0 1 0 0 1 0 0 1]\n",
      " [0 0 0 0 0 1 1 0 0 0 1]\n",
      " [0 0 0 0 0 0 1 0 1 1 0]]\n"
     ]
    }
   ],
   "source": [
    "print(link_matrix)"
   ]
  },
  {
   "cell_type": "code",
   "execution_count": null,
   "metadata": {},
   "outputs": [],
   "source": []
  }
 ],
 "metadata": {
  "kernelspec": {
   "display_name": "Python 3",
   "language": "python",
   "name": "python3"
  },
  "language_info": {
   "codemirror_mode": {
    "name": "ipython",
    "version": 3
   },
   "file_extension": ".py",
   "mimetype": "text/x-python",
   "name": "python",
   "nbconvert_exporter": "python",
   "pygments_lexer": "ipython3",
   "version": "3.7.3"
  }
 },
 "nbformat": 4,
 "nbformat_minor": 2
}
